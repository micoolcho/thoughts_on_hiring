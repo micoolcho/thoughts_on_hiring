{
 "cells": [
  {
   "cell_type": "code",
   "execution_count": 125,
   "metadata": {
    "collapsed": false
   },
   "outputs": [
    {
     "data": {
      "text/html": [
       "<div>\n",
       "<table border=\"1\" class=\"dataframe\">\n",
       "  <thead>\n",
       "    <tr style=\"text-align: right;\">\n",
       "      <th></th>\n",
       "      <th>user_id</th>\n",
       "      <th>Years of Employment</th>\n",
       "      <th>No of Open Source Projects Contribution</th>\n",
       "      <th>Stars on Github Repo</th>\n",
       "      <th>Active on Twitter</th>\n",
       "      <th>Active on Reddit</th>\n",
       "      <th>Active on Instagram</th>\n",
       "      <th>Active on Stackoverflow</th>\n",
       "      <th>No of Friends working at Org (prior to joining Org)</th>\n",
       "      <th>No of Friends working at Competitor</th>\n",
       "      <th>Working at Org</th>\n",
       "    </tr>\n",
       "  </thead>\n",
       "  <tbody>\n",
       "    <tr>\n",
       "      <th>0</th>\n",
       "      <td>0</td>\n",
       "      <td>0</td>\n",
       "      <td>1</td>\n",
       "      <td>800</td>\n",
       "      <td>0</td>\n",
       "      <td>0</td>\n",
       "      <td>0</td>\n",
       "      <td>1</td>\n",
       "      <td>2</td>\n",
       "      <td>3</td>\n",
       "      <td>1</td>\n",
       "    </tr>\n",
       "    <tr>\n",
       "      <th>1</th>\n",
       "      <td>1</td>\n",
       "      <td>2</td>\n",
       "      <td>3</td>\n",
       "      <td>24</td>\n",
       "      <td>0</td>\n",
       "      <td>1</td>\n",
       "      <td>1</td>\n",
       "      <td>1</td>\n",
       "      <td>3</td>\n",
       "      <td>9</td>\n",
       "      <td>0</td>\n",
       "    </tr>\n",
       "    <tr>\n",
       "      <th>2</th>\n",
       "      <td>2</td>\n",
       "      <td>1</td>\n",
       "      <td>2</td>\n",
       "      <td>82</td>\n",
       "      <td>1</td>\n",
       "      <td>0</td>\n",
       "      <td>0</td>\n",
       "      <td>1</td>\n",
       "      <td>2</td>\n",
       "      <td>9</td>\n",
       "      <td>0</td>\n",
       "    </tr>\n",
       "    <tr>\n",
       "      <th>3</th>\n",
       "      <td>3</td>\n",
       "      <td>5</td>\n",
       "      <td>0</td>\n",
       "      <td>0</td>\n",
       "      <td>0</td>\n",
       "      <td>1</td>\n",
       "      <td>0</td>\n",
       "      <td>1</td>\n",
       "      <td>4</td>\n",
       "      <td>28</td>\n",
       "      <td>0</td>\n",
       "    </tr>\n",
       "    <tr>\n",
       "      <th>4</th>\n",
       "      <td>4</td>\n",
       "      <td>8</td>\n",
       "      <td>0</td>\n",
       "      <td>0</td>\n",
       "      <td>1</td>\n",
       "      <td>0</td>\n",
       "      <td>0</td>\n",
       "      <td>0</td>\n",
       "      <td>6</td>\n",
       "      <td>3</td>\n",
       "      <td>0</td>\n",
       "    </tr>\n",
       "  </tbody>\n",
       "</table>\n",
       "</div>"
      ],
      "text/plain": [
       "   user_id  Years of Employment  No of Open Source Projects Contribution  \\\n",
       "0        0                    0                                        1   \n",
       "1        1                    2                                        3   \n",
       "2        2                    1                                        2   \n",
       "3        3                    5                                        0   \n",
       "4        4                    8                                        0   \n",
       "\n",
       "   Stars on Github Repo  Active on Twitter  Active on Reddit  \\\n",
       "0                   800                  0                 0   \n",
       "1                    24                  0                 1   \n",
       "2                    82                  1                 0   \n",
       "3                     0                  0                 1   \n",
       "4                     0                  1                 0   \n",
       "\n",
       "   Active on Instagram  Active on Stackoverflow  \\\n",
       "0                    0                        1   \n",
       "1                    1                        1   \n",
       "2                    0                        1   \n",
       "3                    0                        1   \n",
       "4                    0                        0   \n",
       "\n",
       "   No of Friends working at Org (prior to joining Org)  \\\n",
       "0                                                  2     \n",
       "1                                                  3     \n",
       "2                                                  2     \n",
       "3                                                  4     \n",
       "4                                                  6     \n",
       "\n",
       "   No of Friends working at Competitor  Working at Org  \n",
       "0                                    3               1  \n",
       "1                                    9               0  \n",
       "2                                    9               0  \n",
       "3                                   28               0  \n",
       "4                                    3               0  "
      ]
     },
     "execution_count": 125,
     "metadata": {},
     "output_type": "execute_result"
    }
   ],
   "source": [
    "import numpy as np\n",
    "import pandas as pd\n",
    "\n",
    "dummy_file = \"knn.csv\"\n",
    "dummy_hires = pd.read_csv(dummy_file, header = 0)\n",
    "dummy_hires.head()"
   ]
  },
  {
   "cell_type": "code",
   "execution_count": 126,
   "metadata": {
    "collapsed": false
   },
   "outputs": [],
   "source": [
    "dummy_hires_array = dummy_hires.values"
   ]
  },
  {
   "cell_type": "code",
   "execution_count": 127,
   "metadata": {
    "collapsed": false
   },
   "outputs": [],
   "source": [
    "X = dummy_hires_array[:,1:10]\n",
    "Y = dummy_hires_array[:,10]"
   ]
  },
  {
   "cell_type": "code",
   "execution_count": 128,
   "metadata": {
    "collapsed": false
   },
   "outputs": [],
   "source": [
    "from sklearn import cross_validation\n",
    "from sklearn.neighbors import KNeighborsClassifier"
   ]
  },
  {
   "cell_type": "code",
   "execution_count": 129,
   "metadata": {
    "collapsed": false
   },
   "outputs": [
    {
     "name": "stdout",
     "output_type": "stream",
     "text": [
      "0.619047619048\n"
     ]
    }
   ],
   "source": [
    "num_folds = 3\n",
    "num_instances = len(X)\n",
    "random_state = 2\n",
    "\n",
    "# Setup a 3-fold cross-validation\n",
    "kfold = cross_validation.KFold(n=num_instances, n_folds=num_folds, random_state=random_state)\n",
    "model = KNeighborsClassifier()\n",
    "results = cross_validation.cross_val_score(model, X, Y, cv=kfold)\n",
    "\n",
    "# Mean estimated accuracy of model\n",
    "print(results.mean())"
   ]
  },
  {
   "cell_type": "code",
   "execution_count": 134,
   "metadata": {
    "collapsed": false
   },
   "outputs": [
    {
     "name": "stdout",
     "output_type": "stream",
     "text": [
      "[0]\n"
     ]
    }
   ],
   "source": [
    "model.fit(X,Y)\n",
    "\n",
    "# Predict whether candidate with 3 yrs of experience and no friends and no code contributions on Github\n",
    "candidate = np.array([3,0,0,0,0,0,0,0,0]).reshape(1,-1)\n",
    "print(model.predict(candidate))"
   ]
  },
  {
   "cell_type": "code",
   "execution_count": 135,
   "metadata": {
    "collapsed": false
   },
   "outputs": [
    {
     "name": "stdout",
     "output_type": "stream",
     "text": [
      "[1]\n"
     ]
    }
   ],
   "source": [
    "# Predict whether candidate with 3 yrs of experience and contributions to 2 open source projects with \n",
    "# 500 stars on Github\n",
    "candidate = np.array([3,2,500,0,0,0,0,0,0]).reshape(1,-1)\n",
    "print(model.predict(candidate))"
   ]
  },
  {
   "cell_type": "code",
   "execution_count": null,
   "metadata": {
    "collapsed": true
   },
   "outputs": [],
   "source": []
  }
 ],
 "metadata": {
  "kernelspec": {
   "display_name": "Python 2",
   "language": "python",
   "name": "python2"
  },
  "language_info": {
   "codemirror_mode": {
    "name": "ipython",
    "version": 2
   },
   "file_extension": ".py",
   "mimetype": "text/x-python",
   "name": "python",
   "nbconvert_exporter": "python",
   "pygments_lexer": "ipython2",
   "version": "2.7.11"
  }
 },
 "nbformat": 4,
 "nbformat_minor": 0
}
